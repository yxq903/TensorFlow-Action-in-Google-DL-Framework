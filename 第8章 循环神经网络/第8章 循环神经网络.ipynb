{
 "cells": [
  {
   "cell_type": "code",
   "execution_count": null,
   "metadata": {},
   "outputs": [],
   "source": [
    "import tensorflow as tf\n",
    "tf.__version__"
   ]
  },
  {
   "cell_type": "markdown",
   "metadata": {},
   "source": [
    "## 8.1 循环神经网络简介"
   ]
  },
  {
   "cell_type": "markdown",
   "metadata": {},
   "source": [
    "#### 循环神经网络主要用途是处理和预测序列数据"
   ]
  },
  {
   "cell_type": "markdown",
   "metadata": {},
   "source": [
    "#### 隐藏层的输入不仅包括输入层的输出，还包括上一时刻隐藏层的输出"
   ]
  },
  {
   "cell_type": "markdown",
   "metadata": {},
   "source": [
    "#### 循环神经网络前向传播示例："
   ]
  },
  {
   "cell_type": "markdown",
   "metadata": {},
   "source": [
    "![2136](../TfInActionImg/2136.PNG)"
   ]
  },
  {
   "cell_type": "markdown",
   "metadata": {},
   "source": [
    "![2145](../TfInActionImg/2145.PNG)"
   ]
  },
  {
   "cell_type": "markdown",
   "metadata": {},
   "source": [
    "#### 代码复现图8-5"
   ]
  },
  {
   "cell_type": "code",
   "execution_count": null,
   "metadata": {},
   "outputs": [],
   "source": [
    "import numpy as np\n",
    "\n",
    "X = [1,2]\n",
    "state = [0.0, 0.0]\n",
    "w_cell_state = np.asarray([[0.1, 0.2], [0.3, 0.4]])\n",
    "w_cell_input = np.asarray([0.5, 0.6])\n",
    "b_cell = np.asarray([0.1, -0.1])\n",
    "w_output = np.asarray([[1.0], [2.0]])\n",
    "b_output = 0.1\n",
    "\n",
    "for i in range(len(X)):\n",
    "    before_activation = np.dot(state, w_cell_state) + X[i] * w_cell_input + b_cell\n",
    "    state = np.tanh(before_activation)\n",
    "    final_output = np.dot(state, w_output) + b_output\n",
    "    print \"before activation: \", before_activation\n",
    "    print \"state: \", state\n",
    "    print \"output: \", final_output"
   ]
  },
  {
   "cell_type": "markdown",
   "metadata": {},
   "source": [
    "#### 和其他神经网络类似，在定义完损失函数之后，套用第 4 章 中介绍的优化框架TensorFlow 就可以自动完成模型训练的过程 。这里唯一需要特别指出的是，理论上循环神经网络可以支持任意长度的序列，然而在实际训练过程中 ，如果序列过长， 一方面会导致优化时出现梯度消散和梯度爆炸的问题，另一方面，展开后的前馈神经网络会占用过大的内存，所以实际中一般会规定一个最大长度，当序列长度超过规定长度之后会对序列进行截断 。"
   ]
  },
  {
   "cell_type": "markdown",
   "metadata": {},
   "source": [
    "## 8.2 长短时记忆网络（LSTM）结构"
   ]
  },
  {
   "cell_type": "markdown",
   "metadata": {},
   "source": [
    "#### LSTM单元细节图"
   ]
  },
  {
   "cell_type": "markdown",
   "metadata": {},
   "source": [
    "![0957](../TfInActionImg/0957.PNG)"
   ]
  },
  {
   "cell_type": "markdown",
   "metadata": {},
   "source": [
    "#### 在Tensorflow中，实现LSTM结构的循环神经网络前向传播过程："
   ]
  },
  {
   "cell_type": "markdown",
   "metadata": {},
   "source": [
    "![1006](../TfInActionImg/1006.PNG)\n",
    "![1007](../TfInActionImg/1007.PNG)"
   ]
  },
  {
   "cell_type": "markdown",
   "metadata": {},
   "source": [
    "## 8.3循环神经网络的变种"
   ]
  },
  {
   "cell_type": "markdown",
   "metadata": {},
   "source": [
    "### 8.3.1 双向循环神经网络和深层循环神经网络"
   ]
  },
  {
   "cell_type": "markdown",
   "metadata": {},
   "source": [
    "![1011](../TfInActionImg/1011.PNG)"
   ]
  },
  {
   "cell_type": "markdown",
   "metadata": {},
   "source": [
    "#### 深层循环神经网络结构示意图"
   ]
  },
  {
   "cell_type": "markdown",
   "metadata": {},
   "source": [
    "![1016](../TfInActionImg/1016.PNG)"
   ]
  },
  {
   "cell_type": "markdown",
   "metadata": {},
   "source": [
    "#### 深层循环神经网络前向传播代码"
   ]
  },
  {
   "cell_type": "markdown",
   "metadata": {},
   "source": [
    "![1018](../TfInActionImg/1018.PNG)"
   ]
  },
  {
   "cell_type": "markdown",
   "metadata": {},
   "source": [
    "### 8.3.2 循环神经网络的dropout "
   ]
  },
  {
   "cell_type": "markdown",
   "metadata": {},
   "source": [
    "6.4 节介绍过在卷积神经网络上使用 dropout 的方法。通过 dropout ，可以让卷积神经网络更加健壮（ robust ） 。类似的，在循环神经网络中使用 dropout 也有同样的功能。而且，类似卷积神经网络只在最后的全连接层中使用 dropout，循环神经网络一般只在不同层循环体结构之间使用 dropout，而不在同一层的循环体结构之间使用。 也就是说从时刻 t-1 传递到时刻 t 时，循环神经网络不会进行状态的 dropout；而在同一个时刻 t 中，不同层循环体之间会使用 dropout。"
   ]
  },
  {
   "cell_type": "markdown",
   "metadata": {},
   "source": [
    "#### Tensorflow代码示例"
   ]
  },
  {
   "cell_type": "code",
   "execution_count": null,
   "metadata": {},
   "outputs": [],
   "source": [
    "# no-exe cell!!\n",
    "# 定义LSTM结构\n",
    "lstm_cell = tf.nn.rnn_cell.BasicLSTMCell\n",
    "stacked_lstm = tf.nn.rnn_cell.MultiRNNCell(\n",
    "    [tf.nn.rnn_cell.DropoutWrapper(lstm_cell(lstm_size))\n",
    "        for _ in range(number_of_layers)])"
   ]
  },
  {
   "cell_type": "markdown",
   "metadata": {},
   "source": [
    "## 8.4 循环神经网络样例应用"
   ]
  },
  {
   "cell_type": "markdown",
   "metadata": {},
   "source": [
    "#### 以时序预测为例，利用循环神经网络对函数sinx的取值进行预测"
   ]
  },
  {
   "cell_type": "markdown",
   "metadata": {},
   "source": [
    "#### 导入包"
   ]
  },
  {
   "cell_type": "code",
   "execution_count": 2,
   "metadata": {},
   "outputs": [],
   "source": [
    "import numpy as np\n",
    "import tensorflow as tf \n",
    "import matplotlib.pyplot as plt"
   ]
  },
  {
   "cell_type": "markdown",
   "metadata": {},
   "source": [
    "#### 1.定义RNN参数"
   ]
  },
  {
   "cell_type": "code",
   "execution_count": 3,
   "metadata": {},
   "outputs": [],
   "source": [
    "HIDDEN_SIZE = 30                            # LSTM中隐藏节点的个数。\n",
    "NUM_LAYERS = 2                              # LSTM的层数。\n",
    "TIMESTEPS = 10                              # 循环神经网络的训练序列长度。\n",
    "TRAINING_STEPS = 11111                      # 训练轮数。\n",
    "BATCH_SIZE = 32                             # batch大小。\n",
    "TRAINING_EXAMPLES = 10000                   # 训练数据个数。\n",
    "TESTING_EXAMPLES = 1000                     # 测试数据个数。\n",
    "SAMPLE_GAP = 0.01                           # 采样间隔。"
   ]
  },
  {
   "cell_type": "markdown",
   "metadata": {},
   "source": [
    "#### 2.产生正弦数据"
   ]
  },
  {
   "cell_type": "code",
   "execution_count": 4,
   "metadata": {},
   "outputs": [],
   "source": [
    "def generate_data(seq):\n",
    "    X = []\n",
    "    y = []\n",
    "    # 序列的第i项和后面的TIMESTEPS-1项合在一起作为输入；第i + TIMESTEPS项作为输\n",
    "    # 出。即用sin函数前面的TIMESTEPS个点的信息，预测第i + TIMESTEPS个点的函数值。\n",
    "    for i in range(len(seq) - TIMESTEPS):\n",
    "        X.append([seq[i: i + TIMESTEPS]])\n",
    "        y.append([seq[i + TIMESTEPS]])\n",
    "    return np.array(X, dtype=np.float32), np.array(y, dtype=np.float32)  \n",
    "\n",
    "# 用正弦函数生成训练和测试数据集合。\n",
    "test_start = (TRAINING_EXAMPLES + TIMESTEPS) * SAMPLE_GAP\n",
    "test_end = test_start + (TESTING_EXAMPLES + TIMESTEPS) * SAMPLE_GAP\n",
    "train_X, train_y = generate_data(np.sin(np.linspace(\n",
    "    0, test_start, TRAINING_EXAMPLES + TIMESTEPS, dtype=np.float32)))\n",
    "test_X, test_y = generate_data(np.sin(np.linspace(\n",
    "    test_start, test_end, TESTING_EXAMPLES + TIMESTEPS, dtype=np.float32)))"
   ]
  },
  {
   "cell_type": "code",
   "execution_count": 5,
   "metadata": {
    "scrolled": true
   },
   "outputs": [
    {
     "name": "stdout",
     "output_type": "stream",
     "text": [
      "('teat_start:', 100.10000000000001)\n",
      "('test_end:', 110.2)\n",
      "10000\n",
      "10000\n",
      "1000\n",
      "1000\n"
     ]
    }
   ],
   "source": [
    "print(\"teat_start:\",test_start)\n",
    "print(\"test_end:\",test_end)\n",
    "print(len(train_X))\n",
    "print(len(train_y))\n",
    "print(len(test_X))\n",
    "print(len(test_y))"
   ]
  },
  {
   "cell_type": "code",
   "execution_count": 6,
   "metadata": {},
   "outputs": [
    {
     "data": {
      "text/plain": [
       "array([[[0.01000083, 0.02000066, 0.0299985 , 0.03999333, 0.04998416,\n",
       "         0.05996999, 0.06994983, 0.07992266, 0.0898875 , 0.09984336]],\n",
       "\n",
       "       [[0.02000066, 0.0299985 , 0.03999333, 0.04998416, 0.05996999,\n",
       "         0.06994983, 0.07992266, 0.0898875 , 0.09984336, 0.10978922]],\n",
       "\n",
       "       [[0.0299985 , 0.03999333, 0.04998416, 0.05996999, 0.06994983,\n",
       "         0.07992266, 0.0898875 , 0.09984336, 0.10978922, 0.11972412]]],\n",
       "      dtype=float32)"
      ]
     },
     "execution_count": 6,
     "metadata": {},
     "output_type": "execute_result"
    }
   ],
   "source": [
    "train_X[1:4]"
   ]
  },
  {
   "cell_type": "markdown",
   "metadata": {},
   "source": [
    "#### 3. 定义网络结构和优化步骤。"
   ]
  },
  {
   "cell_type": "code",
   "execution_count": 7,
   "metadata": {},
   "outputs": [],
   "source": [
    "def lstm_model(X, y, is_training):\n",
    "    # 使用多层的LSTM结构。\n",
    "    cell = tf.nn.rnn_cell.MultiRNNCell([\n",
    "        tf.nn.rnn_cell.BasicLSTMCell(HIDDEN_SIZE) \n",
    "        for _ in range(NUM_LAYERS)])    \n",
    "\n",
    "    # 使用TensorFlow接口将多层的LSTM结构连接成RNN网络并计算其前向传播结果。\n",
    "    # output是顶层LSTM每一步的输出结果，\n",
    "    # 本问题只关注最后一个时刻的输出结果\n",
    "    outputs, _ = tf.nn.dynamic_rnn(cell, X, dtype=tf.float32)#dim=[batchsize, time, HIDDEN_size]\n",
    "    output = outputs[:, -1, :]#dim=[batchsize,HIDDEN_size]\n",
    "\n",
    "    # 对LSTM网络的输出再做加一层全链接层并计算损失。注意这里默认的损失为平均\n",
    "    # 平方差损失函数。\n",
    "    predictions = tf.contrib.layers.fully_connected(\n",
    "        output, 1, activation_fn=None)\n",
    "    \n",
    "    # 只在训练时计算损失函数和优化步骤。测试时直接返回预测结果。\n",
    "    if not is_training:\n",
    "        return predictions, None, None\n",
    "        \n",
    "    # 计算损失函数。\n",
    "    loss = tf.losses.mean_squared_error(labels=y, predictions=predictions)\n",
    "\n",
    "    # 创建模型优化器并得到优化步骤。\n",
    "    train_op = tf.contrib.layers.optimize_loss(\n",
    "        loss, tf.train.get_global_step(),\n",
    "        optimizer=\"Adagrad\", learning_rate=0.1)\n",
    "    return predictions, loss, train_op"
   ]
  },
  {
   "cell_type": "markdown",
   "metadata": {},
   "source": [
    "#### 4. 定义测试方法。"
   ]
  },
  {
   "cell_type": "code",
   "execution_count": 8,
   "metadata": {},
   "outputs": [],
   "source": [
    "def run_eval(sess, test_X, test_y):\n",
    "    # 将测试数据以数据集的方式提供给计算图。\n",
    "    ds = tf.data.Dataset.from_tensor_slices((test_X, test_y))\n",
    "    ds = ds.batch(1)\n",
    "    X, y = ds.make_one_shot_iterator().get_next()\n",
    "    \n",
    "    # 调用模型得到计算结果。这里不需要输入真实的y值。\n",
    "    with tf.variable_scope(\"model\",reuse = True):\n",
    "        prediction, _, _ = lstm_model(X, [0.0], False)\n",
    "    \n",
    "    # 将预测结果存入一个数组。\n",
    "    predictions = []\n",
    "    labels = []\n",
    "    for i in range(TESTING_EXAMPLES):\n",
    "        p, l = sess.run([prediction, y])\n",
    "        predictions.append(p)\n",
    "        labels.append(l)\n",
    "\n",
    "    # 计算rmse作为评价指标。\n",
    "    predictions = np.array(predictions).squeeze()\n",
    "    labels = np.array(labels).squeeze()\n",
    "    rmse = np.sqrt(((predictions - labels) ** 2).mean(axis=0))\n",
    "    print(\"Root Mean Square Error is: %f\" % rmse)\n",
    "    \n",
    "    #对预测的sin函数曲线进行绘图。\n",
    "    plt.figure()\n",
    "    plt.plot(predictions, label='predictions')\n",
    "    # plt.plot(labels, label='real_sin')\n",
    "    plt.legend()\n",
    "    plt.show()"
   ]
  },
  {
   "cell_type": "markdown",
   "metadata": {},
   "source": [
    "#### 5. 执行训练和测试。"
   ]
  },
  {
   "cell_type": "code",
   "execution_count": 11,
   "metadata": {},
   "outputs": [
    {
     "name": "stdout",
     "output_type": "stream",
     "text": [
      "Evaluate model before training.\n",
      "Root Mean Square Error is: 0.678621\n"
     ]
    },
    {
     "data": {
      "image/png": "[encoded data removed]",
      "text/plain": [
       "<Figure size 432x288 with 1 Axes>"
      ]
     },
     "metadata": {
      "needs_background": "light"
     },
     "output_type": "display_data"
    },
    {
     "name": "stdout",
     "output_type": "stream",
     "text": [
      "train step: 0, loss: 0.35622936\n",
      "train step: 1000, loss: 0.0011221748\n",
      "train step: 2000, loss: 0.0003125489\n",
      "train step: 3000, loss: 5.6712044e-05\n",
      "train step: 4000, loss: 1.2265022e-05\n",
      "train step: 5000, loss: 3.8316016e-06\n",
      "train step: 6000, loss: 5.515968e-06\n",
      "train step: 7000, loss: 5.8914457e-06\n",
      "train step: 8000, loss: 3.687973e-06\n",
      "train step: 9000, loss: 4.5958923e-06\n",
      "train step: 10000, loss: 3.4785637e-06\n",
      "train step: 11000, loss: 3.0132844e-06\n",
      "Evaluate model after training.\n",
      "Root Mean Square Error is: 0.001947\n"
     ]
    },
    {
     "data": {
      "image/png": "[encoded data removed]",
      "text/plain": [
       "<Figure size 432x288 with 1 Axes>"
      ]
     },
     "metadata": {
      "needs_background": "light"
     },
     "output_type": "display_data"
    }
   ],
   "source": [
    "# 将训练数据以数据集的方式提供给计算图。\n",
    "ds = tf.data.Dataset.from_tensor_slices((train_X, train_y))\n",
    "ds = ds.repeat().shuffle(1000).batch(BATCH_SIZE)\n",
    "X, y = ds.make_one_shot_iterator().get_next()\n",
    "\n",
    "# 定义模型，得到预测结果、损失函数，和训练操作。\n",
    "with tf.variable_scope(\"model\",reuse=True):\n",
    "    _, loss, train_op = lstm_model(X, y, True)\n",
    "    \n",
    "with tf.Session() as sess:\n",
    "    sess.run(tf.global_variables_initializer())\n",
    "    \n",
    "    # 测试在训练之前的模型效果。\n",
    "    print \"Evaluate model before training.\"\n",
    "    run_eval(sess, test_X, test_y)\n",
    "    \n",
    "    # 训练模型。\n",
    "    for i in range(TRAINING_STEPS):\n",
    "        _, l = sess.run([train_op, loss])\n",
    "        if i % 1000 == 0:\n",
    "            print(\"train step: \" + str(i) + \", loss: \" + str(l))\n",
    "    \n",
    "    # 使用训练好的模型对测试数据进行预测。\n",
    "    print \"Evaluate model after training.\"\n",
    "    run_eval(sess, test_X, test_y)"
   ]
  },
  {
   "cell_type": "code",
   "execution_count": null,
   "metadata": {},
   "outputs": [],
   "source": []
  }
 ],
 "metadata": {
  "kernelspec": {
   "display_name": "Python 2",
   "language": "python",
   "name": "python2"
  },
  "language_info": {
   "codemirror_mode": {
    "name": "ipython",
    "version": 2
   },
   "file_extension": ".py",
   "mimetype": "text/x-python",
   "name": "python",
   "nbconvert_exporter": "python",
   "pygments_lexer": "ipython2",
   "version": "2.7.16"
  }
 },
 "nbformat": 4,
 "nbformat_minor": 2
}
