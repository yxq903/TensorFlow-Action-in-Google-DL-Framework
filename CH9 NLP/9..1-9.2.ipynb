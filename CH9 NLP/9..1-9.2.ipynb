{
 "cells": [
  {
   "cell_type": "markdown",
   "metadata": {},
   "source": [
    "## 9.1 语言模型的背景知识"
   ]
  },
  {
   "cell_type": "markdown",
   "metadata": {},
   "source": [
    "###  9.1.1 语言模型的简介"
   ]
  },
  {
   "cell_type": "code",
   "execution_count": null,
   "metadata": {},
   "outputs": [],
   "source": [
    "import tensorflow as tf"
   ]
  },
  {
   "cell_type": "code",
   "execution_count": 3,
   "metadata": {},
   "outputs": [],
   "source": [
    "word_labels = tf.constant([2,0])"
   ]
  },
  {
   "cell_type": "code",
   "execution_count": 4,
   "metadata": {},
   "outputs": [],
   "source": [
    "predict_logits = tf.constant([[2.0,-1.0,3.0],[1.0,0.0,-0.5]])"
   ]
  },
  {
   "cell_type": "code",
   "execution_count": 5,
   "metadata": {},
   "outputs": [],
   "source": [
    "loss = tf.nn.sparse_softmax_cross_entropy_with_logits(labels=word_labels, logits = predict_logits)"
   ]
  },
  {
   "cell_type": "code",
   "execution_count": 6,
   "metadata": {},
   "outputs": [
    {
     "data": {
      "text/plain": [
       "array([0.32656264, 0.4643688 ], dtype=float32)"
      ]
     },
     "execution_count": 6,
     "metadata": {},
     "output_type": "execute_result"
    }
   ],
   "source": [
    "sess = tf.Session()\n",
    "sess.run(loss)"
   ]
  },
  {
   "cell_type": "code",
   "execution_count": 7,
   "metadata": {},
   "outputs": [
    {
     "name": "stdout",
     "output_type": "stream",
     "text": [
      "WARNING:tensorflow:From <ipython-input-7-cd4e917bacfd>:3: softmax_cross_entropy_with_logits (from tensorflow.python.ops.nn_ops) is deprecated and will be removed in a future version.\n",
      "Instructions for updating:\n",
      "\n",
      "Future major versions of TensorFlow will allow gradients to flow\n",
      "into the labels input on backprop by default.\n",
      "\n",
      "See `tf.nn.softmax_cross_entropy_with_logits_v2`.\n",
      "\n"
     ]
    },
    {
     "data": {
      "text/plain": [
       "array([0.32656264, 0.4643688 ], dtype=float32)"
      ]
     },
     "execution_count": 7,
     "metadata": {},
     "output_type": "execute_result"
    }
   ],
   "source": [
    "# softmax_cross_entropy_with_logits需要将预测的目标以概率分布的形式给出\n",
    "word_prob_distribution = tf.constant([[0.0,0.0,1.0],[1.0,0.0,0.0]])\n",
    "loss = tf.nn.softmax_cross_entropy_with_logits(labels = word_prob_distribution, logits = predict_logits)\n",
    "sess.run(loss)"
   ]
  },
  {
   "cell_type": "markdown",
   "metadata": {},
   "source": [
    "##  9.2 神经语言模型"
   ]
  },
  {
   "cell_type": "code",
   "execution_count": 8,
   "metadata": {},
   "outputs": [
    {
     "data": {
      "text/plain": [
       "'1.13.1'"
      ]
     },
     "execution_count": 8,
     "metadata": {},
     "output_type": "execute_result"
    }
   ],
   "source": [
    "tf.__version__"
   ]
  },
  {
   "cell_type": "code",
   "execution_count": 9,
   "metadata": {},
   "outputs": [],
   "source": [
    "import codecs\n",
    "import collections\n",
    "from operator import itemgetter"
   ]
  },
  {
   "cell_type": "code",
   "execution_count": 12,
   "metadata": {},
   "outputs": [],
   "source": [
    "RAW_DATA = \"./data/simple-examples/data/ptb.train.txt\"\n",
    "VOCAB_OUTPUT = \"./data/afterPro/ptb.vocab\"\n",
    "\n",
    "counter = collections.Counter()"
   ]
  },
  {
   "cell_type": "code",
   "execution_count": 13,
   "metadata": {},
   "outputs": [],
   "source": [
    "with codecs.open(RAW_DATA, \"r\", \"utf-8\") as f:\n",
    "    for line in f:\n",
    "        for word in line.strip().split():\n",
    "            counter[word]+=1"
   ]
  },
  {
   "cell_type": "code",
   "execution_count": 15,
   "metadata": {},
   "outputs": [
    {
     "data": {
      "text/plain": [
       "collections.Counter"
      ]
     },
     "execution_count": 15,
     "metadata": {},
     "output_type": "execute_result"
    }
   ],
   "source": [
    "type(counter)"
   ]
  },
  {
   "cell_type": "code",
   "execution_count": 18,
   "metadata": {},
   "outputs": [
    {
     "data": {
      "text/plain": [
       "dict_items"
      ]
     },
     "execution_count": 18,
     "metadata": {},
     "output_type": "execute_result"
    }
   ],
   "source": [
    "type(counter.items())"
   ]
  },
  {
   "cell_type": "code",
   "execution_count": null,
   "metadata": {},
   "outputs": [],
   "source": [
    "sorted_word_to_cnt = sorted(counter.items(),\n",
    "                           key=itemgetter(1),\n",
    "                           reverse = True)"
   ]
  },
  {
   "cell_type": "code",
   "execution_count": 20,
   "metadata": {},
   "outputs": [
    {
     "data": {
      "text/plain": [
       "list"
      ]
     },
     "execution_count": 20,
     "metadata": {},
     "output_type": "execute_result"
    }
   ],
   "source": [
    "type(sorted_word_to_cnt)"
   ]
  },
  {
   "cell_type": "code",
   "execution_count": 22,
   "metadata": {},
   "outputs": [
    {
     "data": {
      "text/plain": [
       "('for', 8927)"
      ]
     },
     "execution_count": 22,
     "metadata": {},
     "output_type": "execute_result"
    }
   ],
   "source": [
    "sorted_word_to_cnt[10]"
   ]
  },
  {
   "cell_type": "code",
   "execution_count": 17,
   "metadata": {},
   "outputs": [],
   "source": [
    "sorted_words = [x[0] for x in sorted_word_to_cnt]\n",
    "\n",
    "sorted_words = [\"<eos>\"] + sorted_words\n",
    "\n",
    "with codecs.open(VOCAB_OUTPUT, 'w', 'utf-8') as file_output:\n",
    "    for word in sorted_words:\n",
    "        file_output.write(word+\"\\n\")"
   ]
  },
  {
   "cell_type": "markdown",
   "metadata": {},
   "source": [
    "######  在确定词汇表之后，再将训练文件、测试文件等都根据词汇文件转化为单词编号。每个单词文件的编号就是它在词汇文件中的行号"
   ]
  },
  {
   "cell_type": "code",
   "execution_count": 37,
   "metadata": {},
   "outputs": [],
   "source": [
    "import codecs\n",
    "import sys\n",
    "\n",
    "RAW_DATA = \"./data/simple-examples/data/ptb.valid.txt\"#train test valid\n",
    "VOCAB = \"./data/afterPro/ptb.vocab\"\n",
    "OUTPUT_DATA = \"./data/afterPro/ptb.valid\""
   ]
  },
  {
   "cell_type": "code",
   "execution_count": 38,
   "metadata": {},
   "outputs": [
    {
     "data": {
      "text/plain": [
       "'./data/afterPro/ptb.vocab'"
      ]
     },
     "execution_count": 38,
     "metadata": {},
     "output_type": "execute_result"
    }
   ],
   "source": [
    "VOCAB"
   ]
  },
  {
   "cell_type": "code",
   "execution_count": 39,
   "metadata": {},
   "outputs": [],
   "source": [
    "input_vocab_file = VOCAB\n",
    "with codecs.open(input_vocab_file, \"r\", \"utf-8\") as f_vocab:\n",
    "    vocab = [w.strip() for w in f_vocab.readlines()]"
   ]
  },
  {
   "cell_type": "code",
   "execution_count": 40,
   "metadata": {},
   "outputs": [
    {
     "data": {
      "text/plain": [
       "['<eos>', 'the', '<unk>', 'N', 'of']"
      ]
     },
     "execution_count": 40,
     "metadata": {},
     "output_type": "execute_result"
    }
   ],
   "source": [
    "vocab[:5]"
   ]
  },
  {
   "cell_type": "code",
   "execution_count": 41,
   "metadata": {},
   "outputs": [],
   "source": [
    "word_to_id = {k:v for (k,v) in zip(vocab, range(len(vocab)))}"
   ]
  },
  {
   "cell_type": "code",
   "execution_count": 42,
   "metadata": {},
   "outputs": [],
   "source": [
    "def get_id(word):\n",
    "    return word_to_id[word] if word in word_to_id else word_to_id[\"<unk>\"]"
   ]
  },
  {
   "cell_type": "code",
   "execution_count": 43,
   "metadata": {},
   "outputs": [],
   "source": [
    "fin = codecs.open(RAW_DATA, \"r\", \"utf-8\")\n",
    "fout = codecs.open(OUTPUT_DATA, \"w\", 'utf-8')\n",
    "for line in fin:\n",
    "    words = line.strip().split()+[\"<eos>\"]\n",
    "    out_line = ' '.join([str(get_id(w))  for w in words]) + '\\n'\n",
    "    fout.write(out_line)\n",
    "fin.close()\n",
    "fout.close()"
   ]
  },
  {
   "cell_type": "markdown",
   "metadata": {},
   "source": [
    "###  9.2.2 PTB数据的batching方法"
   ]
  },
  {
   "cell_type": "markdown",
   "metadata": {},
   "source": [
    "为了利用计算时的并行能力，我们希望每一次计算对多个句子进行并行处理，同时要保证batch之间的上下文连续。\n",
    "解决方案是先将整个文档切分成若干连续段落，再让batch中每一个位置负责其中一段"
   ]
  },
  {
   "cell_type": "code",
   "execution_count": 37,
   "metadata": {},
   "outputs": [],
   "source": [
    "import numpy as np\n",
    "import tensorflow as tf\n",
    "\n",
    "TRAIN_DATA = \"./data/afterPro/ptb.train\"\n",
    "TRAIN_BATCH_SIZE = 20\n",
    "TRAIN_NUM_STEP = 35"
   ]
  },
  {
   "cell_type": "code",
   "execution_count": 38,
   "metadata": {},
   "outputs": [],
   "source": [
    "#  从文件中读取数据，并返回包含单词编号的数据组\n",
    "def read_data(file_path):\n",
    "    with open(file_path, \"r\") as fin:\n",
    "        id_string = ' '.join([line.strip() for line in fin.readlines()])\n",
    "    id_list = [int(w) for w in id_string.split()]\n",
    "    return id_list"
   ]
  },
  {
   "cell_type": "code",
   "execution_count": 42,
   "metadata": {},
   "outputs": [],
   "source": [
    "def make_batches(id_list, batch_size,num_step):\n",
    "    # 计算总的batch数量。每个batch包含的单词数量是batch_size*num_step\n",
    "    num_batches = (len(id_list) -1) // (batch_size*num_step)\n",
    "    \n",
    "    #将数据整理为一个二维数组，维度：[batch_size, num_batches*num_step]\n",
    "    data = np.array(id_list[:num_batches*batch_size*num_step])\n",
    "    data = np.reshape(data, [batch_size, num_batches*num_step])\n",
    "    # 沿着第二个维度，将数据切成num_batches个batch，存入一个数组\n",
    "    data_batches = np.split(data, num_batches, axis=1)\n",
    "    \n",
    "    # 重复上述操作，但是每个位置向右移动一位。\n",
    "    # 这里得到RNN每一步输出所需要预测的下一个单词\n",
    "    label = np.array(id_list[1:num_batches*batch_size*num_step+1])\n",
    "    label = np.reshape(label, [batch_size,num_batches*num_step])\n",
    "    label = np.split(data,num_batches, axis=1)\n",
    "    # 返回一个长度为num_batches的数组，其中每一项包含一个data矩阵和一个label矩阵\n",
    "    return list(zip(data_batches, label_batches))"
   ]
  },
  {
   "cell_type": "markdown",
   "metadata": {},
   "source": [
    "###  9.2.3 基于循环神经网络的神经语言模型"
   ]
  },
  {
   "cell_type": "markdown",
   "metadata": {},
   "source": [
    "#### 词向量层"
   ]
  },
  {
   "cell_type": "markdown",
   "metadata": {},
   "source": [
    "- 作用：降低输入维度；增加语义信息"
   ]
  },
  {
   "cell_type": "code",
   "execution_count": 2,
   "metadata": {},
   "outputs": [],
   "source": [
    "import tensorflow as tf"
   ]
  },
  {
   "cell_type": "markdown",
   "metadata": {},
   "source": [
    "embedding = tf.get_variable(\"embedding\", [VOCAB_SIZE, EMB_SIZE])\n",
    "input_embedding = tf.nn.embedding_lookup(emdedding, input_data)"
   ]
  },
  {
   "cell_type": "markdown",
   "metadata": {},
   "source": [
    "- 输入的input_data的维度：batch_size \\* num_steps\n",
    "- 输出的input_embedding的维度：batch_size \\* num_steps\\*EMB_SIZE"
   ]
  },
  {
   "cell_type": "markdown",
   "metadata": {},
   "source": [
    "#### softmax层\n",
    "- 将神经网络的输出转化为一个单词表中每个单词出现的概率"
   ]
  },
  {
   "cell_type": "markdown",
   "metadata": {},
   "source": [
    "####  通过共享参数减少参数量"
   ]
  },
  {
   "cell_type": "markdown",
   "metadata": {},
   "source": [
    "### 完整的训练程序"
   ]
  },
  {
   "cell_type": "markdown",
   "metadata": {},
   "source": [
    "####  1. 设置参数"
   ]
  },
  {
   "cell_type": "code",
   "execution_count": 49,
   "metadata": {},
   "outputs": [],
   "source": [
    "# coding : utf-8\n",
    "import numpy as np\n",
    "import tensorflow as tf\n",
    "\n",
    "TRAIN_DATA  = \"./data/afterPro/ptb.train\"\n",
    "EVAL_DATA   = \"./data/afterPro/ptb.valid\"\n",
    "TEST_DATA   = \"./data/afterPro/ptb.test\"\n",
    "HIDDEN_SIZE = 300                 # 隐藏层规模。\n",
    "NUM_LAYERS = 2                    # 深层循环神经网络中LSTM结构的层数。\n",
    "VOCAB_SIZE = 10000                # 词典规模。\n",
    "TRAIN_BATCH_SIZE = 20             # 训练数据batch的大小。\n",
    "TRAIN_NUM_STEP = 35               # 训练数据截断长度。\n",
    "\n",
    "EVAL_BATCH_SIZE = 1               # 测试数据batch的大小。\n",
    "EVAL_NUM_STEP = 1                 # 测试数据截断长度。\n",
    "NUM_EPOCH = 5                     # 使用训练数据的轮数。\n",
    "LSTM_KEEP_PROB = 0.9              # LSTM节点不被dropout的概率。\n",
    "EMBEDDING_KEEP_PROB = 0.9         # 词向量不被dropout的概率。\n",
    "MAX_GRAD_NORM = 5                 # 用于控制梯度膨胀的梯度大小上限。\n",
    "SHARE_EMB_AND_SOFTMAX = True      # 在Softmax层和词向量层之间共享参数。"
   ]
  },
  {
   "cell_type": "markdown",
   "metadata": {},
   "source": [
    "####  2. 定义模型"
   ]
  },
  {
   "cell_type": "code",
   "execution_count": 50,
   "metadata": {},
   "outputs": [],
   "source": [
    "# 通过一个PTBModel类来描述模型，这样方便维护循环神经网络中的状态。\n",
    "class PTBModel(object):\n",
    "    def __init__(self, is_training, batch_size, num_steps):\n",
    "        # 记录使用的batch大小和截断长度。\n",
    "        self.batch_size = batch_size\n",
    "        self.num_steps = num_steps\n",
    "        \n",
    "        # 定义每一步的输入和预期输出。两者的维度都是[batch_size, num_steps]。\n",
    "        self.input_data = tf.placeholder(tf.int32, [batch_size, num_steps])\n",
    "        self.targets = tf.placeholder(tf.int32, [batch_size, num_steps])\n",
    "        \n",
    "        # 定义使用LSTM结构为循环体结构且使用dropout的深层循环神经网络。\n",
    "        dropout_keep_prob = LSTM_KEEP_PROB if is_training else 1.0\n",
    "        lstm_cells = [\n",
    "            tf.nn.rnn_cell.DropoutWrapper(\n",
    "                tf.nn.rnn_cell.BasicLSTMCell(HIDDEN_SIZE),\n",
    "                output_keep_prob=dropout_keep_prob)\n",
    "            for _ in range(NUM_LAYERS)]     \n",
    "        cell = tf.nn.rnn_cell.MultiRNNCell(lstm_cells)            \n",
    "        \n",
    "        # 初始化最初的状态，即全零的向量。这个量只在每个epoch初始化第一个batch\n",
    "        # 时使用。\n",
    "        self.initial_state = cell.zero_state(batch_size, tf.float32)\n",
    "\n",
    "        # 定义单词的词向量矩阵。\n",
    "        embedding = tf.get_variable(\"embedding\", [VOCAB_SIZE, HIDDEN_SIZE])\n",
    "        \n",
    "        # 将输入单词转化为词向量。\n",
    "        inputs = tf.nn.embedding_lookup(embedding, self.input_data)\n",
    "        \n",
    "        # 只在训练时使用dropout。\n",
    "        if is_training:\n",
    "            inputs = tf.nn.dropout(inputs, EMBEDDING_KEEP_PROB)\n",
    " \n",
    "        # 定义输出列表。在这里先将不同时刻LSTM结构的输出收集起来，再一起提供给\n",
    "        # softmax层。\n",
    "        outputs = []\n",
    "        state = self.initial_state\n",
    "        with tf.variable_scope(\"RNN\"):\n",
    "            for time_step in range(num_steps):\n",
    "                if time_step > 0: tf.get_variable_scope().reuse_variables()\n",
    "                    #cell的输入：batch_size *EMB_SIZE\n",
    "                    #状态维度：?\n",
    "                    #输出维度：?\n",
    "                cell_output, state = cell(inputs[:, time_step, :], state)\n",
    "                outputs.append(cell_output) \n",
    "        # 把输出队列展开成[batch, hidden_size*num_steps]的形状，然后再\n",
    "        # reshape成[batch*numsteps, hidden_size]的形状。\n",
    "        output = tf.reshape(tf.concat(outputs, 1), [-1, HIDDEN_SIZE])\n",
    " \n",
    "        # Softmax层：将RNN在每个位置上的输出转化为各个单词的logits。\n",
    "        if SHARE_EMB_AND_SOFTMAX:\n",
    "            weight = tf.transpose(embedding)\n",
    "        else:\n",
    "            weight = tf.get_variable(\"weight\", [HIDDEN_SIZE, VOCAB_SIZE])\n",
    "        bias = tf.get_variable(\"bias\", [VOCAB_SIZE])\n",
    "        logits = tf.matmul(output, weight) + bias\n",
    "        \n",
    "        # 定义交叉熵损失函数和平均损失。\n",
    "        loss = tf.nn.sparse_softmax_cross_entropy_with_logits(\n",
    "            labels=tf.reshape(self.targets, [-1]),\n",
    "            logits=logits)\n",
    "        self.cost = tf.reduce_sum(loss) / batch_size\n",
    "        self.final_state = state\n",
    "        \n",
    "        # 只在训练模型时定义反向传播操作。\n",
    "        if not is_training: return\n",
    "\n",
    "        trainable_variables = tf.trainable_variables()\n",
    "        # 控制梯度大小，定义优化方法和训练步骤。\n",
    "        grads, _ = tf.clip_by_global_norm(\n",
    "            tf.gradients(self.cost, trainable_variables), MAX_GRAD_NORM)\n",
    "        optimizer = tf.train.GradientDescentOptimizer(learning_rate=1.0)\n",
    "        self.train_op = optimizer.apply_gradients(\n",
    "            zip(grads, trainable_variables)) "
   ]
  },
  {
   "cell_type": "markdown",
   "metadata": {},
   "source": [
    "#### 3.定义数据和训练过程。"
   ]
  },
  {
   "cell_type": "code",
   "execution_count": 51,
   "metadata": {},
   "outputs": [],
   "source": [
    "# 使用给定的模型model在数据data上运行train_op并返回在全部数据上的perplexity值。\n",
    "def run_epoch(session, model, batches, train_op, output_log, step):\n",
    "    # 计算平均perplexity的辅助变量。\n",
    "    total_costs = 0.0\n",
    "    iters = 0\n",
    "    state = session.run(model.initial_state) \n",
    "    # 训练一个epoch。\n",
    "    for x, y in batches:\n",
    "        # 在当前batch上运行train_op并计算损失值。交叉熵损失函数计算的就是下一个单\n",
    "        # 词为给定单词的概率。\n",
    "        cost, state, _ = session.run(\n",
    "             [model.cost, model.final_state, train_op],\n",
    "             {model.input_data: x, model.targets: y,\n",
    "              model.initial_state: state})\n",
    "        total_costs += cost\n",
    "        iters += model.num_steps\n",
    "\n",
    "        # 只有在训练时输出日志。\n",
    "        if output_log and step % 100 == 0:\n",
    "            print(\"After %d steps, perplexity is %.3f\" % (\n",
    "                  step, np.exp(total_costs / iters)))\n",
    "        step += 1\n",
    "\n",
    "    # 返回给定模型在给定数据上的perplexity值。\n",
    "    return step, np.exp(total_costs / iters)\n",
    "\n",
    "\n",
    "# 从文件中读取数据，并返回包含单词编号的数组。\n",
    "def read_data(file_path):\n",
    "    with open(file_path, \"r\") as fin:\n",
    "        # 将整个文档读进一个长字符串。\n",
    "        id_string = ' '.join([line.strip() for line in fin.readlines()])\n",
    "    id_list = [int(w) for w in id_string.split()]  # 将读取的单词编号转为整数\n",
    "    return id_list\n",
    "\n",
    "\n",
    "def make_batches(id_list, batch_size, num_step):\n",
    "    # 计算总的batch数量。每个batch包含的单词数量是batch_size * num_step。\n",
    "    num_batches = (len(id_list) - 1) // (batch_size * num_step)\n",
    "\n",
    "    # 如9-4图所示，将数据整理成一个维度为[batch_size, num_batches * num_step]\n",
    "    # 的二维数组。\n",
    "    data = np.array(id_list[: num_batches * batch_size * num_step])\n",
    "    data = np.reshape(data, [batch_size, num_batches * num_step])\n",
    "    # 沿着第二个维度将数据切分成num_batches个batch，存入一个数组。\n",
    "    data_batches = np.split(data, num_batches, axis=1)\n",
    "\n",
    "    # 重复上述操作，但是每个位置向右移动一位。这里得到的是RNN每一步输出所需要预测的\n",
    "    # 下一个单词。\n",
    "    label = np.array(id_list[1 : num_batches * batch_size * num_step + 1]) \n",
    "    label = np.reshape(label, [batch_size, num_batches * num_step])\n",
    "    label_batches = np.split(label, num_batches, axis=1)  \n",
    "    # 返回一个长度为num_batches的数组，其中每一项包括一个data矩阵和一个label矩阵。\n",
    "    return list(zip(data_batches, label_batches)) \n"
   ]
  },
  {
   "cell_type": "markdown",
   "metadata": {},
   "source": [
    "#### 4.主函数"
   ]
  },
  {
   "cell_type": "code",
   "execution_count": null,
   "metadata": {},
   "outputs": [],
   "source": [
    "def main():\n",
    "    # 定义初始化函数。\n",
    "    initializer = tf.random_uniform_initializer(-0.05, 0.05)\n",
    "    \n",
    "    # 定义训练用的循环神经网络模型。\n",
    "    with tf.variable_scope(\"language_model\", \n",
    "                           reuse=True, initializer=initializer): #------------------------------------\n",
    "        train_model = PTBModel(True, TRAIN_BATCH_SIZE, TRAIN_NUM_STEP)\n",
    "\n",
    "    # 定义测试用的循环神经网络模型。它与train_model共用参数，但是没有dropout。\n",
    "    with tf.variable_scope(\"language_model\",\n",
    "                           reuse=True, initializer=initializer):\n",
    "        eval_model = PTBModel(False, EVAL_BATCH_SIZE, EVAL_NUM_STEP)\n",
    "\n",
    "    # 训练模型。\n",
    "    with tf.Session() as session:\n",
    "        tf.global_variables_initializer().run()\n",
    "        train_batches = make_batches(\n",
    "            read_data(TRAIN_DATA), TRAIN_BATCH_SIZE, TRAIN_NUM_STEP)\n",
    "        eval_batches = make_batches(\n",
    "            read_data(EVAL_DATA), EVAL_BATCH_SIZE, EVAL_NUM_STEP)\n",
    "        test_batches = make_batches(\n",
    "            read_data(TEST_DATA), EVAL_BATCH_SIZE, EVAL_NUM_STEP)\n",
    "\n",
    "        step = 0\n",
    "        for i in range(NUM_EPOCH):\n",
    "            print(\"In iteration: %d\" % (i + 1))\n",
    "            step, train_pplx = run_epoch(session, train_model, train_batches,\n",
    "                                         train_model.train_op, True, step)\n",
    "            print(\"Epoch: %d Train Perplexity: %.3f\" % (i + 1, train_pplx))\n",
    "\n",
    "            _, eval_pplx = run_epoch(session, eval_model, eval_batches,\n",
    "                                     tf.no_op(), False, 0)\n",
    "            print(\"Epoch: %d Eval Perplexity: %.3f\" % (i + 1, eval_pplx))\n",
    "\n",
    "        _, test_pplx = run_epoch(session, eval_model, test_batches,\n",
    "                                 tf.no_op(), False, 0)\n",
    "        print(\"Test Perplexity: %.3f\" % test_pplx)\n",
    "\n",
    "if __name__ == \"__main__\":\n",
    "    main()"
   ]
  },
  {
   "cell_type": "code",
   "execution_count": null,
   "metadata": {},
   "outputs": [],
   "source": []
  },
  {
   "cell_type": "code",
   "execution_count": null,
   "metadata": {},
   "outputs": [],
   "source": []
  }
 ],
 "metadata": {
  "kernelspec": {
   "display_name": "Python 3",
   "language": "python",
   "name": "python3"
  },
  "language_info": {
   "codemirror_mode": {
    "name": "ipython",
    "version": 3
   },
   "file_extension": ".py",
   "mimetype": "text/x-python",
   "name": "python",
   "nbconvert_exporter": "python",
   "pygments_lexer": "ipython3",
   "version": "3.6.8"
  }
 },
 "nbformat": 4,
 "nbformat_minor": 2
}
